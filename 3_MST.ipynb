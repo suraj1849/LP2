{
 "cells": [
  {
   "cell_type": "code",
   "execution_count": 1,
   "id": "3a0ad3a8",
   "metadata": {},
   "outputs": [
    {
     "name": "stdout",
     "output_type": "stream",
     "text": [
      "Enter the number of edges: 3\n",
      "Enter edge (source destination weight): a b 5\n",
      "Enter edge (source destination weight): a c 4\n",
      "Enter edge (source destination weight): b c 6\n",
      "Minimum Spanning Tree edges:\n",
      "('a', 'c', 4)\n",
      "('a', 'b', 5)\n",
      "Total cost: 9\n"
     ]
    }
   ],
   "source": [
    "class Graph:\n",
    "    def __init__(self):\n",
    "        self.graph = []\n",
    "\n",
    "    def add_edge(self, u, v, w):\n",
    "        self.graph.append((u, v, w))\n",
    "\n",
    "    def minimum_spanning_tree(self):\n",
    "        self.graph.sort(key=lambda x: x[2])\n",
    "        parent, rank, result, total_cost = {}, {}, [], 0\n",
    "\n",
    "        def find(x):\n",
    "            if parent[x] != x: parent[x] = find(parent[x])\n",
    "            return parent[x]\n",
    "\n",
    "        def union(x, y):\n",
    "            root_x, root_y = find(x), find(y)\n",
    "            if rank[root_x] < rank[root_y]: parent[root_x] = root_y\n",
    "            elif rank[root_x] > rank[root_y]: parent[root_y] = root_x\n",
    "            else: parent[root_y] = root_x; rank[root_x] += 1\n",
    "\n",
    "        for u, v, w in self.graph:\n",
    "            for vertex in (u, v):\n",
    "                if vertex not in parent: parent[vertex], rank[vertex] = vertex, 0\n",
    "            if find(u) != find(v):\n",
    "                union(u, v); result.append((u, v, w)); total_cost += w\n",
    "\n",
    "        return result, total_cost\n",
    "\n",
    "\n",
    "def take_input():\n",
    "    g = Graph()\n",
    "    for _ in range(int(input(\"Enter the number of edges: \"))):\n",
    "        u, v, w = input(\"Enter edge (source destination weight): \").split()\n",
    "        g.add_edge(u, v, int(w))\n",
    "    return g\n",
    "\n",
    "\n",
    "graph = take_input()\n",
    "mst_edges, total_cost = graph.minimum_spanning_tree()\n",
    "print(\"Minimum Spanning Tree edges:\")\n",
    "for edge in mst_edges: print(edge)\n",
    "print(\"Total cost:\", total_cost)\n",
    "\n"
   ]
  },
  {
   "cell_type": "code",
   "execution_count": null,
   "id": "d038c5b6",
   "metadata": {},
   "outputs": [],
   "source": []
  }
 ],
 "metadata": {
  "kernelspec": {
   "display_name": "Python 3 (ipykernel)",
   "language": "python",
   "name": "python3"
  },
  "language_info": {
   "codemirror_mode": {
    "name": "ipython",
    "version": 3
   },
   "file_extension": ".py",
   "mimetype": "text/x-python",
   "name": "python",
   "nbconvert_exporter": "python",
   "pygments_lexer": "ipython3",
   "version": "3.11.5"
  }
 },
 "nbformat": 4,
 "nbformat_minor": 5
}
