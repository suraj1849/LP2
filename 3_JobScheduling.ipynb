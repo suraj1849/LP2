{
 "cells": [
  {
   "cell_type": "code",
   "execution_count": 5,
   "id": "a452650d",
   "metadata": {},
   "outputs": [
    {
     "name": "stdout",
     "output_type": "stream",
     "text": [
      "Enter details for each job:\n",
      "Enter the number of jobs: 4\n",
      "Enter job name: 1\n",
      "Enter deadline for job 1: 18\n",
      "Enter profit for job 1: 3\n",
      "Enter job name: 2\n",
      "Enter deadline for job 2: 4\n",
      "Enter profit for job 2: 17\n",
      "Enter job name: 3\n",
      "Enter deadline for job 3: 8\n",
      "Enter profit for job 3: 19\n",
      "Enter job name: 4\n",
      "Enter deadline for job 4: 2\n",
      "Enter profit for job 4: 1\n",
      "Scheduled Jobs: [-1, '4', -1, '2', -1, -1, -1, '3', -1, -1, -1, -1, -1, -1, -1, -1, -1, '1']\n",
      "Total profit: 40\n"
     ]
    }
   ],
   "source": [
    "def job_scheduling(jobs):\n",
    "    jobs.sort(key=lambda x: x[2], reverse=True)\n",
    "    max_deadline = max(jobs, key=lambda x: x[1])[1]\n",
    "    result = [-1] * (max_deadline + 1)\n",
    "    total_profit = 0\n",
    "    for job in jobs:\n",
    "        for j in range(job[1], 0, -1):\n",
    "            if result[j] == -1:\n",
    "                result[j] = job[0]\n",
    "                total_profit += job[2]\n",
    "                break\n",
    "    return result[1:], total_profit\n",
    "\n",
    "def take_input():\n",
    "    jobs = []\n",
    "    n = int(input(\"Enter the number of jobs: \"))\n",
    "    for i in range(n):\n",
    "        name = input(\"Enter job name: \")\n",
    "        deadline = int(input(\"Enter deadline for job {}: \".format(name)))\n",
    "        profit = int(input(\"Enter profit for job {}: \".format(name)))\n",
    "        jobs.append((name, deadline, profit))\n",
    "    return jobs\n",
    "\n",
    "print(\"Enter details for each job:\")\n",
    "jobs = take_input()\n",
    "schedule, total_profit = job_scheduling(jobs)\n",
    "print(\"Scheduled Jobs:\", schedule)\n",
    "print(\"Total profit:\", total_profit)\n",
    "\n",
    "\n"
   ]
  },
  {
   "cell_type": "code",
   "execution_count": null,
   "id": "649d36ea",
   "metadata": {},
   "outputs": [],
   "source": []
  }
 ],
 "metadata": {
  "kernelspec": {
   "display_name": "Python 3 (ipykernel)",
   "language": "python",
   "name": "python3"
  },
  "language_info": {
   "codemirror_mode": {
    "name": "ipython",
    "version": 3
   },
   "file_extension": ".py",
   "mimetype": "text/x-python",
   "name": "python",
   "nbconvert_exporter": "python",
   "pygments_lexer": "ipython3",
   "version": "3.11.5"
  }
 },
 "nbformat": 4,
 "nbformat_minor": 5
}
