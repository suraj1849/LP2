{
 "cells": [
  {
   "cell_type": "code",
   "execution_count": 5,
   "id": "01c0e03d",
   "metadata": {},
   "outputs": [
    {
     "name": "stdout",
     "output_type": "stream",
     "text": [
      "Enter total edges: 6\n",
      "Enter edges in the format 'source destination weight': \n",
      "a b 3\n",
      "a c 9\n",
      "c d 7\n",
      "b d 5\n",
      "b e 6\n",
      "d e 8\n",
      "Minimum Spanning Tree: \n",
      "Enter Start node: a\n",
      "(None, 'a', 0)\n",
      "('a', 'b', 3)\n",
      "('b', 'd', 5)\n",
      "('b', 'e', 6)\n",
      "('d', 'c', 7)\n"
     ]
    }
   ],
   "source": [
    "import heapq\n",
    "\n",
    "def Greedy_Prim(graph):\n",
    "    Minimum_Spanning_Tree = []\n",
    "    visited = set()\n",
    "    start_node = input(\"Enter Start node: \")\n",
    "    priority_Q = [(0,start_node,None)]\n",
    "    \n",
    "    while priority_Q:\n",
    "        weight,currentnode ,parent = heapq.heappop(priority_Q)\n",
    "        if currentnode not in visited:\n",
    "            visited.add(currentnode)\n",
    "            Minimum_Spanning_Tree.append((parent,currentnode,weight))\n",
    "            for neighbor,edge_weight in graph[currentnode].items():\n",
    "                    if neighbor not in visited:\n",
    "                        heapq.heappush(priority_Q,(edge_weight, neighbor, currentnode))\n",
    "    return Minimum_Spanning_Tree\n",
    "def create_graph():\n",
    "    graph = {}\n",
    "    total_egdes = int(input(\"Enter total edges: \"))\n",
    "    print(\"Enter edges in the format 'source destination weight': \")\n",
    "    for _ in range(total_egdes):\n",
    "        start,end,weight = input().split()\n",
    "        weight = int(weight)\n",
    "        if start not in graph:\n",
    "            graph[start] = {}\n",
    "        if end not in graph:\n",
    "            graph[end] = {}\n",
    "        graph[start][end] = weight\n",
    "        graph[end][start] = weight\n",
    "    return graph\n",
    "graph1 = create_graph()\n",
    "print(\"Minimum Spanning Tree: \")\n",
    "result = Greedy_Prim(graph1)\n",
    "for edge in result:\n",
    "    print(edge)\n",
    "\n"
   ]
  },
  {
   "cell_type": "code",
   "execution_count": null,
   "id": "c94b3d9e",
   "metadata": {},
   "outputs": [],
   "source": []
  }
 ],
 "metadata": {
  "kernelspec": {
   "display_name": "Python 3 (ipykernel)",
   "language": "python",
   "name": "python3"
  },
  "language_info": {
   "codemirror_mode": {
    "name": "ipython",
    "version": 3
   },
   "file_extension": ".py",
   "mimetype": "text/x-python",
   "name": "python",
   "nbconvert_exporter": "python",
   "pygments_lexer": "ipython3",
   "version": "3.11.5"
  }
 },
 "nbformat": 4,
 "nbformat_minor": 5
}
