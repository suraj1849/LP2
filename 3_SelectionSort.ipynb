{
 "cells": [
  {
   "cell_type": "code",
   "execution_count": 4,
   "id": "8046d982",
   "metadata": {},
   "outputs": [
    {
     "name": "stdout",
     "output_type": "stream",
     "text": [
      "Enter number of elements: 5\n",
      "Enter elements:\n",
      "98\n",
      "0\n",
      "56\n",
      "6\n",
      "1\n",
      "Before Selection Sort:\n",
      "98 0 56 6 1\n",
      "After Selection Sort:\n",
      "0 1 6 56 98\n"
     ]
    }
   ],
   "source": [
    "def selection_sort(arr):\n",
    "    for i in range(len(arr) - 1):\n",
    "        index = i\n",
    "        for j in range(i + 1, len(arr)):\n",
    "            if arr[j] < arr[index]:\n",
    "                index = j\n",
    "        arr[index], arr[i] = arr[i], arr[index]\n",
    "\n",
    "if __name__ == \"__main__\":\n",
    "    n = int(input(\"Enter number of elements: \"))\n",
    "    arr = []\n",
    "    print(\"Enter elements:\")\n",
    "    for _ in range(n):\n",
    "        arr.append(int(input()))\n",
    "\n",
    "    print(\"Before Selection Sort:\")\n",
    "    print(*arr)\n",
    "\n",
    "    selection_sort(arr)\n",
    "\n",
    "    print(\"After Selection Sort:\")\n",
    "    print(*arr)\n",
    "\n"
   ]
  },
  {
   "cell_type": "code",
   "execution_count": null,
   "id": "928fbd1e",
   "metadata": {},
   "outputs": [],
   "source": []
  },
  {
   "cell_type": "code",
   "execution_count": null,
   "id": "f7cb8364",
   "metadata": {},
   "outputs": [],
   "source": []
  }
 ],
 "metadata": {
  "kernelspec": {
   "display_name": "Python 3 (ipykernel)",
   "language": "python",
   "name": "python3"
  },
  "language_info": {
   "codemirror_mode": {
    "name": "ipython",
    "version": 3
   },
   "file_extension": ".py",
   "mimetype": "text/x-python",
   "name": "python",
   "nbconvert_exporter": "python",
   "pygments_lexer": "ipython3",
   "version": "3.11.5"
  }
 },
 "nbformat": 4,
 "nbformat_minor": 5
}
